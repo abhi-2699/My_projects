{
  "cells": [
    {
      "cell_type": "markdown",
      "id": "a48b00fe",
      "metadata": {
        "id": "a48b00fe"
      },
      "source": [
        "## INSTRUCTIONS \n",
        "\n",
        "Every learner should submit his/her own homework solutions. However, you are allowed to discuss the homework with each other– but everyone must submit his/her own solution; you may not copy someone else’s solution. \n",
        "\n",
        "The homework consists of two parts:\n",
        "1.\tData from our life\n",
        "2.\tClassification\n",
        "\n",
        "Follow the prompts in the attached jupyter notebook. We are using a clean and modified version of the auto imports dataset (Description of the original dataset is in the cell bellow). Download the auto_imp.csv file from Canvas and put it in your working directory. Don't forget to add libraries to use in your analysis. You can use the code as a guide that was provided in the class. \n",
        "\n",
        "Add markdown cells to your analysis to include your solutions, comments, answers. Add as many cells as you need, for easy readability comment when possible. \n",
        "\n",
        "**Note:** This homework has a bonus question, so the highest mark that can be earned is a 105.\n",
        "Submission: Send in both a ipynb and a html file of your work.\n",
        "Good luck!\n",
        "\n"
      ]
    },
    {
      "cell_type": "markdown",
      "id": "377d748b",
      "metadata": {
        "id": "377d748b"
      },
      "source": [
        "**Title: 1985 Auto Imports Database**\n",
        "\n",
        "Relevant Information:\n",
        "   -- Description\n",
        "      This data set consists of three types of entities: (a) the\n",
        "      specification of an auto in terms of various characteristics, (b)\n",
        "      its assigned insurance risk rating, (c) its normalized losses in use\n",
        "      as compared to other cars.  The second rating corresponds to the\n",
        "      degree to which the auto is more risky than its price indicates.\n",
        "      Cars are initially assigned a risk factor symbol associated with its\n",
        "      price.   Then, if it is more risky (or less), this symbol is\n",
        "      adjusted by moving it up (or down) the scale.  Actuarians call this\n",
        "      process \"symboling\".  A value of +3 indicates that the auto is\n",
        "      risky, -3 that it is probably pretty safe.\n",
        "\n",
        "      The third factor is the relative average loss payment per insured\n",
        "      vehicle year.  This value is normalized for all autos within a\n",
        "      particular size classification (two-door small, station wagons,\n",
        "      sports/speciality, etc...), and represents the average loss per car\n",
        "      per year.\n",
        "\n",
        "   -- Note: Several of the attributes in the database could be used as a\n",
        "            \"class\" attribute.\n",
        "\n",
        "5. Number of Instances: 205\n",
        "\n",
        "6. Number of Attributes: 26 total\n",
        "   -- 15 continuous\n",
        "   -- 1 integer\n",
        "   -- 10 nominal\n",
        "\n",
        "7. Attribute Information:     \n",
        "     Attribute:                Attribute Range:\n",
        "     ------------------        -----------------------------------------------\n",
        "  1. symboling:                -3, -2, -1, 0, 1, 2, 3.\n",
        "  2. normalized-losses:        continuous from 65 to 256.\n",
        "  3. make:                     alfa-romero, audi, bmw, chevrolet, dodge, honda,isuzu, jaguar, mazda, mercedes-benz, mercury, mitsubishi, nissan, peugot, plymouth, porsche, renault, saab, subaru, toyota,volkswagen, volvo\n",
        "  4. fuel-type:                diesel, gas.\n",
        "  5. aspiration:               std, turbo.\n",
        "  6. num-of-doors:             four, two.\n",
        "  7. body-style:               hardtop, wagon, sedan, hatchback, convertible.\n",
        "  8. drive-wheels:             4wd, fwd, rwd.\n",
        "  9. engine-location:          front, rear.\n",
        " 10. wheel-base:               continuous from 86.6 120.9.\n",
        " 11. length:                   continuous from 141.1 to 208.1.\n",
        " 12. width:                    continuous from 60.3 to 72.3.\n",
        " 13. height:                   continuous from 47.8 to 59.8.\n",
        " 14. curb-weight:              continuous from 1488 to 4066.\n",
        " 15. engine-type:              dohc, dohcv, l, ohc, ohcf, ohcv, rotor.\n",
        " 16. num-of-cylinders:         eight, five, four, six, three, twelve, two.\n",
        " 17. engine-size:              continuous from 61 to 326.\n",
        " 18. fuel-system:              1bbl, 2bbl, 4bbl, idi, mfi, mpfi, spdi, spfi.\n",
        " 19. bore:                     continuous from 2.54 to 3.94.\n",
        " 20. stroke:                   continuous from 2.07 to 4.17.\n",
        " 21. compression-ratio:        continuous from 7 to 23.\n",
        " 22. horsepower:               continuous from 48 to 288.\n",
        " 23. peak-rpm:                 continuous from 4150 to 6600.\n",
        " 24. city-mpg:                 continuous from 13 to 49.\n",
        " 25. highway-mpg:              continuous from 16 to 54.\n",
        " 26. price:                    continuous from 5118 to 45400.\n",
        "\n",
        "8. Missing Attribute Values: (denoted by \"?\")"
      ]
    },
    {
      "cell_type": "markdown",
      "id": "51fb31fa",
      "metadata": {
        "id": "51fb31fa"
      },
      "source": [
        "# 1. Data from our lives:"
      ]
    },
    {
      "cell_type": "markdown",
      "id": "4bcc0963",
      "metadata": {
        "id": "4bcc0963"
      },
      "source": [
        "### Describe a situation or problem from your job, everyday life, current events, etc., for which a classification would be appropriate."
      ]
    },
    {
      "cell_type": "markdown",
      "source": [
        "The classification of YouTube videos is one instance in which it would be appropriate to use classification. With millions of videos being uploaded to the platform every day, it is crucial to classify and categorize these videos so that users who are interested in particular types of content can quickly find them.\n",
        "As an illustration, YouTube's automated video classification system uses algorithms to classify videos into a variety of categories based on their content, including music, sports, gaming, news, education, comedy, and many others. Users can now search for and discover videos based on their preferences and interests.\n",
        "In order to guarantee that videos are correctly categorized and do not contravene the platform's community guidelines, YouTube also uses a human review process. Human moderators who have been trained in video review conduct a manual examination of flagged videos before deciding whether or not they should be taken down.\n",
        "In conclusion, video classification is an essential part of YouTube's content discovery and moderation process. It helps users find relevant videos and keeps the platform appropriate and safe for all users."
      ],
      "metadata": {
        "id": "JuTcWIq7xpuj"
      },
      "id": "JuTcWIq7xpuj"
    },
    {
      "cell_type": "markdown",
      "id": "b5a7df56",
      "metadata": {
        "id": "b5a7df56"
      },
      "source": [
        "# 2. Preprocessing"
      ]
    },
    {
      "cell_type": "code",
      "execution_count": 117,
      "id": "4e54c4be",
      "metadata": {
        "id": "4e54c4be"
      },
      "outputs": [],
      "source": [
        "## Add libraries to use\n",
        "from numpy import where\n",
        "from collections import Counter\n",
        "from sklearn.datasets import make_blobs\n",
        "from matplotlib import pyplot\n",
        "from sklearn.ensemble import RandomForestClassifier\n",
        "from sklearn.model_selection import train_test_split, GridSearchCV\n",
        "from sklearn import metrics\n",
        "from sklearn.metrics import roc_auc_score\n",
        "from sklearn.metrics import roc_curve\n",
        "from sklearn.datasets import make_classification\n",
        "from sklearn.model_selection import train_test_split\n",
        "from sklearn.metrics import f1_score\n",
        "from sklearn.covariance import EllipticEnvelope\n",
        "from sklearn.ensemble import IsolationForest\n",
        "from sklearn.svm import OneClassSVM\n",
        "from sklearn.metrics import auc\n",
        "from sklearn.model_selection import cross_val_score\n",
        "from sklearn.model_selection import RepeatedStratifiedKFold\n",
        "from sklearn.svm import SVC\n",
        "from sklearn import svm\n",
        "from sklearn.linear_model import LogisticRegression\n",
        "from sklearn.feature_selection import RFE\n",
        "from sklearn.naive_bayes import GaussianNB\n",
        "from sklearn.metrics import accuracy_score\n",
        "from sklearn.preprocessing import StandardScaler \n",
        "from sklearn.neighbors import KNeighborsClassifier\n",
        "from sklearn.metrics import classification_report, confusion_matrix\n",
        "from collections import Counter\n",
        "from sklearn.dummy import DummyClassifier\n",
        "from mlxtend.plotting import plot_confusion_matrix\n",
        "import matplotlib.pyplot as plt\n",
        "import seaborn as sns\n",
        "%matplotlib inline\n",
        "import numpy as np\n",
        "import pandas as pd\n",
        "\n",
        "\n",
        "\n"
      ]
    },
    {
      "cell_type": "markdown",
      "id": "5cf4e2d8",
      "metadata": {
        "id": "5cf4e2d8"
      },
      "source": [
        "In our class we covered multiple classification methods. In this part of the home work you can compare them \n",
        "\n",
        "**Use the dataset 'auto_imp.csv' from Canvas. Follow the prompts to complete the homework.**"
      ]
    },
    {
      "cell_type": "code",
      "execution_count": 118,
      "id": "303ca496",
      "metadata": {
        "id": "303ca496"
      },
      "outputs": [],
      "source": [
        "df2 =pd.read_csv('/content/sample_data/auto_imp.csv')"
      ]
    },
    {
      "cell_type": "code",
      "execution_count": 119,
      "id": "49f9f426",
      "metadata": {
        "colab": {
          "base_uri": "https://localhost:8080/"
        },
        "id": "49f9f426",
        "outputId": "c619fa86-5047-4bfd-c93d-0742e8cf810e"
      },
      "outputs": [
        {
          "output_type": "stream",
          "name": "stdout",
          "text": [
            "<class 'pandas.core.frame.DataFrame'>\n",
            "RangeIndex: 195 entries, 0 to 194\n",
            "Data columns (total 15 columns):\n",
            " #   Column       Non-Null Count  Dtype  \n",
            "---  ------       --------------  -----  \n",
            " 0   fuel_type    195 non-null    object \n",
            " 1   wheel_base   195 non-null    float64\n",
            " 2   length       195 non-null    float64\n",
            " 3   width        195 non-null    float64\n",
            " 4   heights      195 non-null    float64\n",
            " 5   curb_weight  195 non-null    int64  \n",
            " 6   engine_size  195 non-null    int64  \n",
            " 7   bore         195 non-null    float64\n",
            " 8   stroke       195 non-null    float64\n",
            " 9   comprassion  195 non-null    float64\n",
            " 10  horse_power  195 non-null    int64  \n",
            " 11  peak_rpm     195 non-null    int64  \n",
            " 12  city_mpg     195 non-null    int64  \n",
            " 13  highway_mpg  195 non-null    int64  \n",
            " 14  price        195 non-null    int64  \n",
            "dtypes: float64(7), int64(7), object(1)\n",
            "memory usage: 23.0+ KB\n"
          ]
        }
      ],
      "source": [
        "df2.info()"
      ]
    },
    {
      "cell_type": "markdown",
      "id": "7356dab7",
      "metadata": {
        "id": "7356dab7"
      },
      "source": [
        "## 2.1 **Replace ['gas', 'diesel'] string values to [0, 1]**"
      ]
    },
    {
      "cell_type": "code",
      "execution_count": 120,
      "id": "127b23b0",
      "metadata": {
        "id": "127b23b0"
      },
      "outputs": [],
      "source": [
        "df2['fuel_type'] = df2['fuel_type'].replace({'gas': 0, 'diesel' : 1})\n"
      ]
    },
    {
      "cell_type": "code",
      "execution_count": 121,
      "id": "91e32dd6",
      "metadata": {
        "colab": {
          "base_uri": "https://localhost:8080/",
          "height": 488
        },
        "id": "91e32dd6",
        "outputId": "bc1c789a-eea1-4737-f36e-28b7d51a3ea9"
      },
      "outputs": [
        {
          "output_type": "execute_result",
          "data": {
            "text/plain": [
              "     fuel_type  wheel_base  length  width  heights  curb_weight  engine_size  \\\n",
              "0            0        88.6   168.8   64.1     48.8         2548          130   \n",
              "1            0        88.6   168.8   64.1     48.8         2548          130   \n",
              "2            0        94.5   171.2   65.5     52.4         2823          152   \n",
              "3            0        99.8   176.6   66.2     54.3         2337          109   \n",
              "4            0        99.4   176.6   66.4     54.3         2824          136   \n",
              "..         ...         ...     ...    ...      ...          ...          ...   \n",
              "190          0       109.1   188.8   68.9     55.5         2952          141   \n",
              "191          0       109.1   188.8   68.8     55.5         3049          141   \n",
              "192          0       109.1   188.8   68.9     55.5         3012          173   \n",
              "193          1       109.1   188.8   68.9     55.5         3217          145   \n",
              "194          0       109.1   188.8   68.9     55.5         3062          141   \n",
              "\n",
              "     bore  stroke  comprassion  horse_power  peak_rpm  city_mpg  highway_mpg  \\\n",
              "0    3.47    2.68          9.0          111      5000        21           27   \n",
              "1    3.47    2.68          9.0          111      5000        21           27   \n",
              "2    2.68    3.47          9.0          154      5000        19           26   \n",
              "3    3.19    3.40         10.0          102      5500        24           30   \n",
              "4    3.19    3.40          8.0          115      5500        18           22   \n",
              "..    ...     ...          ...          ...       ...       ...          ...   \n",
              "190  3.78    3.15          9.5          114      5400        23           28   \n",
              "191  3.78    3.15          8.7          160      5300        19           25   \n",
              "192  3.58    2.87          8.8          134      5500        18           23   \n",
              "193  3.01    3.40         23.0          106      4800        26           27   \n",
              "194  3.78    3.15          9.5          114      5400        19           25   \n",
              "\n",
              "     price  \n",
              "0    13495  \n",
              "1    16500  \n",
              "2    16500  \n",
              "3    13950  \n",
              "4    17450  \n",
              "..     ...  \n",
              "190  16845  \n",
              "191  19045  \n",
              "192  21485  \n",
              "193  22470  \n",
              "194  22625  \n",
              "\n",
              "[195 rows x 15 columns]"
            ],
            "text/html": [
              "\n",
              "  <div id=\"df-875b29cd-d4ac-4823-a19c-300b4ebaf067\">\n",
              "    <div class=\"colab-df-container\">\n",
              "      <div>\n",
              "<style scoped>\n",
              "    .dataframe tbody tr th:only-of-type {\n",
              "        vertical-align: middle;\n",
              "    }\n",
              "\n",
              "    .dataframe tbody tr th {\n",
              "        vertical-align: top;\n",
              "    }\n",
              "\n",
              "    .dataframe thead th {\n",
              "        text-align: right;\n",
              "    }\n",
              "</style>\n",
              "<table border=\"1\" class=\"dataframe\">\n",
              "  <thead>\n",
              "    <tr style=\"text-align: right;\">\n",
              "      <th></th>\n",
              "      <th>fuel_type</th>\n",
              "      <th>wheel_base</th>\n",
              "      <th>length</th>\n",
              "      <th>width</th>\n",
              "      <th>heights</th>\n",
              "      <th>curb_weight</th>\n",
              "      <th>engine_size</th>\n",
              "      <th>bore</th>\n",
              "      <th>stroke</th>\n",
              "      <th>comprassion</th>\n",
              "      <th>horse_power</th>\n",
              "      <th>peak_rpm</th>\n",
              "      <th>city_mpg</th>\n",
              "      <th>highway_mpg</th>\n",
              "      <th>price</th>\n",
              "    </tr>\n",
              "  </thead>\n",
              "  <tbody>\n",
              "    <tr>\n",
              "      <th>0</th>\n",
              "      <td>0</td>\n",
              "      <td>88.6</td>\n",
              "      <td>168.8</td>\n",
              "      <td>64.1</td>\n",
              "      <td>48.8</td>\n",
              "      <td>2548</td>\n",
              "      <td>130</td>\n",
              "      <td>3.47</td>\n",
              "      <td>2.68</td>\n",
              "      <td>9.0</td>\n",
              "      <td>111</td>\n",
              "      <td>5000</td>\n",
              "      <td>21</td>\n",
              "      <td>27</td>\n",
              "      <td>13495</td>\n",
              "    </tr>\n",
              "    <tr>\n",
              "      <th>1</th>\n",
              "      <td>0</td>\n",
              "      <td>88.6</td>\n",
              "      <td>168.8</td>\n",
              "      <td>64.1</td>\n",
              "      <td>48.8</td>\n",
              "      <td>2548</td>\n",
              "      <td>130</td>\n",
              "      <td>3.47</td>\n",
              "      <td>2.68</td>\n",
              "      <td>9.0</td>\n",
              "      <td>111</td>\n",
              "      <td>5000</td>\n",
              "      <td>21</td>\n",
              "      <td>27</td>\n",
              "      <td>16500</td>\n",
              "    </tr>\n",
              "    <tr>\n",
              "      <th>2</th>\n",
              "      <td>0</td>\n",
              "      <td>94.5</td>\n",
              "      <td>171.2</td>\n",
              "      <td>65.5</td>\n",
              "      <td>52.4</td>\n",
              "      <td>2823</td>\n",
              "      <td>152</td>\n",
              "      <td>2.68</td>\n",
              "      <td>3.47</td>\n",
              "      <td>9.0</td>\n",
              "      <td>154</td>\n",
              "      <td>5000</td>\n",
              "      <td>19</td>\n",
              "      <td>26</td>\n",
              "      <td>16500</td>\n",
              "    </tr>\n",
              "    <tr>\n",
              "      <th>3</th>\n",
              "      <td>0</td>\n",
              "      <td>99.8</td>\n",
              "      <td>176.6</td>\n",
              "      <td>66.2</td>\n",
              "      <td>54.3</td>\n",
              "      <td>2337</td>\n",
              "      <td>109</td>\n",
              "      <td>3.19</td>\n",
              "      <td>3.40</td>\n",
              "      <td>10.0</td>\n",
              "      <td>102</td>\n",
              "      <td>5500</td>\n",
              "      <td>24</td>\n",
              "      <td>30</td>\n",
              "      <td>13950</td>\n",
              "    </tr>\n",
              "    <tr>\n",
              "      <th>4</th>\n",
              "      <td>0</td>\n",
              "      <td>99.4</td>\n",
              "      <td>176.6</td>\n",
              "      <td>66.4</td>\n",
              "      <td>54.3</td>\n",
              "      <td>2824</td>\n",
              "      <td>136</td>\n",
              "      <td>3.19</td>\n",
              "      <td>3.40</td>\n",
              "      <td>8.0</td>\n",
              "      <td>115</td>\n",
              "      <td>5500</td>\n",
              "      <td>18</td>\n",
              "      <td>22</td>\n",
              "      <td>17450</td>\n",
              "    </tr>\n",
              "    <tr>\n",
              "      <th>...</th>\n",
              "      <td>...</td>\n",
              "      <td>...</td>\n",
              "      <td>...</td>\n",
              "      <td>...</td>\n",
              "      <td>...</td>\n",
              "      <td>...</td>\n",
              "      <td>...</td>\n",
              "      <td>...</td>\n",
              "      <td>...</td>\n",
              "      <td>...</td>\n",
              "      <td>...</td>\n",
              "      <td>...</td>\n",
              "      <td>...</td>\n",
              "      <td>...</td>\n",
              "      <td>...</td>\n",
              "    </tr>\n",
              "    <tr>\n",
              "      <th>190</th>\n",
              "      <td>0</td>\n",
              "      <td>109.1</td>\n",
              "      <td>188.8</td>\n",
              "      <td>68.9</td>\n",
              "      <td>55.5</td>\n",
              "      <td>2952</td>\n",
              "      <td>141</td>\n",
              "      <td>3.78</td>\n",
              "      <td>3.15</td>\n",
              "      <td>9.5</td>\n",
              "      <td>114</td>\n",
              "      <td>5400</td>\n",
              "      <td>23</td>\n",
              "      <td>28</td>\n",
              "      <td>16845</td>\n",
              "    </tr>\n",
              "    <tr>\n",
              "      <th>191</th>\n",
              "      <td>0</td>\n",
              "      <td>109.1</td>\n",
              "      <td>188.8</td>\n",
              "      <td>68.8</td>\n",
              "      <td>55.5</td>\n",
              "      <td>3049</td>\n",
              "      <td>141</td>\n",
              "      <td>3.78</td>\n",
              "      <td>3.15</td>\n",
              "      <td>8.7</td>\n",
              "      <td>160</td>\n",
              "      <td>5300</td>\n",
              "      <td>19</td>\n",
              "      <td>25</td>\n",
              "      <td>19045</td>\n",
              "    </tr>\n",
              "    <tr>\n",
              "      <th>192</th>\n",
              "      <td>0</td>\n",
              "      <td>109.1</td>\n",
              "      <td>188.8</td>\n",
              "      <td>68.9</td>\n",
              "      <td>55.5</td>\n",
              "      <td>3012</td>\n",
              "      <td>173</td>\n",
              "      <td>3.58</td>\n",
              "      <td>2.87</td>\n",
              "      <td>8.8</td>\n",
              "      <td>134</td>\n",
              "      <td>5500</td>\n",
              "      <td>18</td>\n",
              "      <td>23</td>\n",
              "      <td>21485</td>\n",
              "    </tr>\n",
              "    <tr>\n",
              "      <th>193</th>\n",
              "      <td>1</td>\n",
              "      <td>109.1</td>\n",
              "      <td>188.8</td>\n",
              "      <td>68.9</td>\n",
              "      <td>55.5</td>\n",
              "      <td>3217</td>\n",
              "      <td>145</td>\n",
              "      <td>3.01</td>\n",
              "      <td>3.40</td>\n",
              "      <td>23.0</td>\n",
              "      <td>106</td>\n",
              "      <td>4800</td>\n",
              "      <td>26</td>\n",
              "      <td>27</td>\n",
              "      <td>22470</td>\n",
              "    </tr>\n",
              "    <tr>\n",
              "      <th>194</th>\n",
              "      <td>0</td>\n",
              "      <td>109.1</td>\n",
              "      <td>188.8</td>\n",
              "      <td>68.9</td>\n",
              "      <td>55.5</td>\n",
              "      <td>3062</td>\n",
              "      <td>141</td>\n",
              "      <td>3.78</td>\n",
              "      <td>3.15</td>\n",
              "      <td>9.5</td>\n",
              "      <td>114</td>\n",
              "      <td>5400</td>\n",
              "      <td>19</td>\n",
              "      <td>25</td>\n",
              "      <td>22625</td>\n",
              "    </tr>\n",
              "  </tbody>\n",
              "</table>\n",
              "<p>195 rows × 15 columns</p>\n",
              "</div>\n",
              "      <button class=\"colab-df-convert\" onclick=\"convertToInteractive('df-875b29cd-d4ac-4823-a19c-300b4ebaf067')\"\n",
              "              title=\"Convert this dataframe to an interactive table.\"\n",
              "              style=\"display:none;\">\n",
              "        \n",
              "  <svg xmlns=\"http://www.w3.org/2000/svg\" height=\"24px\"viewBox=\"0 0 24 24\"\n",
              "       width=\"24px\">\n",
              "    <path d=\"M0 0h24v24H0V0z\" fill=\"none\"/>\n",
              "    <path d=\"M18.56 5.44l.94 2.06.94-2.06 2.06-.94-2.06-.94-.94-2.06-.94 2.06-2.06.94zm-11 1L8.5 8.5l.94-2.06 2.06-.94-2.06-.94L8.5 2.5l-.94 2.06-2.06.94zm10 10l.94 2.06.94-2.06 2.06-.94-2.06-.94-.94-2.06-.94 2.06-2.06.94z\"/><path d=\"M17.41 7.96l-1.37-1.37c-.4-.4-.92-.59-1.43-.59-.52 0-1.04.2-1.43.59L10.3 9.45l-7.72 7.72c-.78.78-.78 2.05 0 2.83L4 21.41c.39.39.9.59 1.41.59.51 0 1.02-.2 1.41-.59l7.78-7.78 2.81-2.81c.8-.78.8-2.07 0-2.86zM5.41 20L4 18.59l7.72-7.72 1.47 1.35L5.41 20z\"/>\n",
              "  </svg>\n",
              "      </button>\n",
              "      \n",
              "  <style>\n",
              "    .colab-df-container {\n",
              "      display:flex;\n",
              "      flex-wrap:wrap;\n",
              "      gap: 12px;\n",
              "    }\n",
              "\n",
              "    .colab-df-convert {\n",
              "      background-color: #E8F0FE;\n",
              "      border: none;\n",
              "      border-radius: 50%;\n",
              "      cursor: pointer;\n",
              "      display: none;\n",
              "      fill: #1967D2;\n",
              "      height: 32px;\n",
              "      padding: 0 0 0 0;\n",
              "      width: 32px;\n",
              "    }\n",
              "\n",
              "    .colab-df-convert:hover {\n",
              "      background-color: #E2EBFA;\n",
              "      box-shadow: 0px 1px 2px rgba(60, 64, 67, 0.3), 0px 1px 3px 1px rgba(60, 64, 67, 0.15);\n",
              "      fill: #174EA6;\n",
              "    }\n",
              "\n",
              "    [theme=dark] .colab-df-convert {\n",
              "      background-color: #3B4455;\n",
              "      fill: #D2E3FC;\n",
              "    }\n",
              "\n",
              "    [theme=dark] .colab-df-convert:hover {\n",
              "      background-color: #434B5C;\n",
              "      box-shadow: 0px 1px 3px 1px rgba(0, 0, 0, 0.15);\n",
              "      filter: drop-shadow(0px 1px 2px rgba(0, 0, 0, 0.3));\n",
              "      fill: #FFFFFF;\n",
              "    }\n",
              "  </style>\n",
              "\n",
              "      <script>\n",
              "        const buttonEl =\n",
              "          document.querySelector('#df-875b29cd-d4ac-4823-a19c-300b4ebaf067 button.colab-df-convert');\n",
              "        buttonEl.style.display =\n",
              "          google.colab.kernel.accessAllowed ? 'block' : 'none';\n",
              "\n",
              "        async function convertToInteractive(key) {\n",
              "          const element = document.querySelector('#df-875b29cd-d4ac-4823-a19c-300b4ebaf067');\n",
              "          const dataTable =\n",
              "            await google.colab.kernel.invokeFunction('convertToInteractive',\n",
              "                                                     [key], {});\n",
              "          if (!dataTable) return;\n",
              "\n",
              "          const docLinkHtml = 'Like what you see? Visit the ' +\n",
              "            '<a target=\"_blank\" href=https://colab.research.google.com/notebooks/data_table.ipynb>data table notebook</a>'\n",
              "            + ' to learn more about interactive tables.';\n",
              "          element.innerHTML = '';\n",
              "          dataTable['output_type'] = 'display_data';\n",
              "          await google.colab.output.renderOutput(dataTable, element);\n",
              "          const docLink = document.createElement('div');\n",
              "          docLink.innerHTML = docLinkHtml;\n",
              "          element.appendChild(docLink);\n",
              "        }\n",
              "      </script>\n",
              "    </div>\n",
              "  </div>\n",
              "  "
            ]
          },
          "metadata": {},
          "execution_count": 121
        }
      ],
      "source": [
        "df2"
      ]
    },
    {
      "cell_type": "markdown",
      "id": "c3851124",
      "metadata": {
        "id": "c3851124"
      },
      "source": [
        "## 2.2 : Define your X and y: your dependent variable is fuel_type, the rest of the variables are your independent variables"
      ]
    },
    {
      "cell_type": "code",
      "execution_count": 122,
      "id": "f3735085",
      "metadata": {
        "id": "f3735085"
      },
      "outputs": [],
      "source": [
        "X = df2.iloc[:, 1:]\n",
        "y = df2['fuel_type']\n"
      ]
    },
    {
      "cell_type": "markdown",
      "id": "cf86f4df",
      "metadata": {
        "id": "cf86f4df"
      },
      "source": [
        "## 2.3 Split your data into training and testing set. Use test_size=0.3, random_state=746 !"
      ]
    },
    {
      "cell_type": "code",
      "execution_count": 123,
      "id": "2e6c1b4f",
      "metadata": {
        "id": "2e6c1b4f"
      },
      "outputs": [],
      "source": [
        "\n",
        "X_train, X_test, y_train, y_test = train_test_split(X, y, test_size=0.3, random_state=746)"
      ]
    },
    {
      "cell_type": "markdown",
      "id": "4ad2fd64",
      "metadata": {
        "id": "4ad2fd64"
      },
      "source": [
        "# 3. Classification"
      ]
    },
    {
      "cell_type": "markdown",
      "id": "35ea935a",
      "metadata": {
        "id": "35ea935a"
      },
      "source": [
        "### 3.1 Use Logistic regression to classify your data. Print/report your confusion matrix, classification report and AUC, what do you notice?"
      ]
    },
    {
      "cell_type": "code",
      "source": [
        "lgr=LogisticRegression()\n",
        "model_lrg=lgr.fit(X_train,y_train)"
      ],
      "metadata": {
        "colab": {
          "base_uri": "https://localhost:8080/"
        },
        "id": "oRyehT3c3TUE",
        "outputId": "18ea3623-cb9b-4776-cbca-1d8983c95b3d"
      },
      "id": "oRyehT3c3TUE",
      "execution_count": 124,
      "outputs": [
        {
          "output_type": "stream",
          "name": "stderr",
          "text": [
            "/usr/local/lib/python3.9/dist-packages/sklearn/linear_model/_logistic.py:458: ConvergenceWarning: lbfgs failed to converge (status=1):\n",
            "STOP: TOTAL NO. of ITERATIONS REACHED LIMIT.\n",
            "\n",
            "Increase the number of iterations (max_iter) or scale the data as shown in:\n",
            "    https://scikit-learn.org/stable/modules/preprocessing.html\n",
            "Please also refer to the documentation for alternative solver options:\n",
            "    https://scikit-learn.org/stable/modules/linear_model.html#logistic-regression\n",
            "  n_iter_i = _check_optimize_result(\n"
          ]
        }
      ]
    },
    {
      "cell_type": "code",
      "source": [
        "# Make predictions with the classifier:\n",
        "y_hat = lgr.predict(X_test)\n",
        "\n",
        "\n",
        "cf_matrix2=confusion_matrix(y_test, y_hat)\n",
        "\n",
        "# Evaluate label (subsets) accuracy:\n",
        "print(accuracy_score(y_test, y_hat))\n",
        "print(confusion_matrix(y_test, y_hat))\n",
        "print(classification_report(y_test, y_hat))\n",
        "\n",
        "cohen3= metrics.cohen_kappa_score(y_test, y_hat)\n",
        "print('Cohen Kappa: %.3f' % cohen3)\n",
        "\n",
        "auc_score3 = roc_auc_score(y_test,y_hat)\n",
        "print('AUC: %.3f' % auc_score3)"
      ],
      "metadata": {
        "colab": {
          "base_uri": "https://localhost:8080/"
        },
        "id": "2VezZtVM3UHo",
        "outputId": "89f30286-ad2b-48dd-c28c-5960f5d57324"
      },
      "id": "2VezZtVM3UHo",
      "execution_count": 125,
      "outputs": [
        {
          "output_type": "stream",
          "name": "stdout",
          "text": [
            "1.0\n",
            "[[50  0]\n",
            " [ 0  9]]\n",
            "              precision    recall  f1-score   support\n",
            "\n",
            "           0       1.00      1.00      1.00        50\n",
            "           1       1.00      1.00      1.00         9\n",
            "\n",
            "    accuracy                           1.00        59\n",
            "   macro avg       1.00      1.00      1.00        59\n",
            "weighted avg       1.00      1.00      1.00        59\n",
            "\n",
            "Cohen Kappa: 1.000\n",
            "AUC: 1.000\n"
          ]
        }
      ]
    },
    {
      "cell_type": "code",
      "source": [
        "ax = sns.heatmap(cf_matrix2, annot=True, cmap='Blues')\n",
        "\n",
        "ax.set_title('Logistic Regression Confusion Matrix with labels\\n\\n');\n",
        "ax.set_xlabel('\\nPredicted Values')\n",
        "ax.set_ylabel('Actual Values ');\n",
        "\n",
        "## Ticket labels - List must be in alphabetical order\n",
        "ax.xaxis.set_ticklabels(['False','True'])\n",
        "ax.yaxis.set_ticklabels(['False','True'])\n",
        "\n",
        "## Display the visualization of the Confusion Matrix.\n",
        "plt.savefig(\"logreg.jpg\")\n",
        "plt.show()"
      ],
      "metadata": {
        "colab": {
          "base_uri": "https://localhost:8080/",
          "height": 530
        },
        "id": "K-tnnk6-3k7h",
        "outputId": "5a2044f7-04ac-4a4a-bd64-386c07b863f7"
      },
      "id": "K-tnnk6-3k7h",
      "execution_count": 126,
      "outputs": [
        {
          "output_type": "display_data",
          "data": {
            "text/plain": [
              "<Figure size 640x480 with 2 Axes>"
            ],
            "image/png": "[encoded data removed]"
          },
          "metadata": {}
        }
      ]
    },
    {
      "cell_type": "markdown",
      "source": [
        "In the confusion matrix, the number of true positives, true negatives, false positives, and false negatives are displayed. Each class's precision, recall, f1-score, and support are displayed in the classification report. The AUC rating is a gauge of how effectively the model can distinguish between the two classes.\n",
        "You should take note that the performance metrics can help you understand how effective your model is. For instance, you might need to change the model's parameters or feature selection if your confusion matrix reveals a significant number of false positives or false negatives. Additionally, you can learn from the classification report how well your model is doing for each class. The AUC score, in addition, reveals how well the model can distinguish between the two classes.\n",
        "Overall, the accuracy is 100% using logistic regression and AUC is 1."
      ],
      "metadata": {
        "id": "_1tgZnDrAYSz"
      },
      "id": "_1tgZnDrAYSz"
    },
    {
      "cell_type": "markdown",
      "id": "2d3360f1",
      "metadata": {
        "id": "2d3360f1"
      },
      "source": [
        "### 3.2 Use Naive Bayes to classify your data. Print/report your confusion matrix, classification report and AUC. What do you notice?"
      ]
    },
    {
      "cell_type": "code",
      "execution_count": 127,
      "id": "131bcdbf",
      "metadata": {
        "id": "131bcdbf"
      },
      "outputs": [],
      "source": [
        "#your code\n",
        "# Initialize classifier:\n",
        "gnb = GaussianNB()\n",
        "\n",
        "# Train the classifier:\n",
        "model = gnb.fit(X_train, y_train)"
      ]
    },
    {
      "cell_type": "code",
      "source": [
        "# Make predictions with the classifier:\n",
        "predictive_labels = gnb.predict(X_test)\n",
        "\n",
        "# Evaluate label (subsets) accuracy:\n",
        "print(accuracy_score(y_test, predictive_labels))\n",
        "\n",
        "cf_matrix=confusion_matrix(y_test, predictive_labels)\n",
        "\n",
        "print(confusion_matrix(y_test, predictive_labels))\n",
        "print(classification_report(y_test, predictive_labels))\n",
        "\n",
        "cohen3= metrics.cohen_kappa_score(y_test, predictive_labels)\n",
        "print('Cohen Kappa: %.3f' % cohen3)\n",
        "\n",
        "auc_score3 = roc_auc_score(y_test,predictive_labels)\n",
        "print('AUC: %.3f' % auc_score3)"
      ],
      "metadata": {
        "colab": {
          "base_uri": "https://localhost:8080/"
        },
        "id": "3oXA-7em305k",
        "outputId": "8340cf77-f315-4e6a-e0fe-3ffec3fd4be2"
      },
      "id": "3oXA-7em305k",
      "execution_count": 128,
      "outputs": [
        {
          "output_type": "stream",
          "name": "stdout",
          "text": [
            "1.0\n",
            "[[50  0]\n",
            " [ 0  9]]\n",
            "              precision    recall  f1-score   support\n",
            "\n",
            "           0       1.00      1.00      1.00        50\n",
            "           1       1.00      1.00      1.00         9\n",
            "\n",
            "    accuracy                           1.00        59\n",
            "   macro avg       1.00      1.00      1.00        59\n",
            "weighted avg       1.00      1.00      1.00        59\n",
            "\n",
            "Cohen Kappa: 1.000\n",
            "AUC: 1.000\n"
          ]
        }
      ]
    },
    {
      "cell_type": "code",
      "source": [
        "ax = sns.heatmap(cf_matrix, annot=True, cmap='Greens')\n",
        "\n",
        "ax.set_title('Naive Bayes Confusion Matrix with labels\\n\\n');\n",
        "ax.set_xlabel('\\nPredicted Values')\n",
        "ax.set_ylabel('Actual Values ');\n",
        "\n",
        "## Ticket labels - List must be in alphabetical order\n",
        "ax.xaxis.set_ticklabels(['False','True'])\n",
        "ax.yaxis.set_ticklabels(['False','True'])\n",
        "\n",
        "## Display the visualization of the Confusion Matrix.\n",
        "plt.savefig(\"naive.jpg\")\n",
        "plt.show()"
      ],
      "metadata": {
        "colab": {
          "base_uri": "https://localhost:8080/",
          "height": 530
        },
        "id": "z7sxrcfO32Mp",
        "outputId": "1b442d68-8900-41ef-cd4d-044ae5c54b98"
      },
      "id": "z7sxrcfO32Mp",
      "execution_count": 129,
      "outputs": [
        {
          "output_type": "display_data",
          "data": {
            "text/plain": [
              "<Figure size 640x480 with 2 Axes>"
            ],
            "image/png": "[encoded data removed]"
          },
          "metadata": {}
        }
      ]
    },
    {
      "cell_type": "markdown",
      "source": [
        "Here, we first used train test split to divide the data into training and testing sets (). Using the training data, we create a Naive Bayes model, and we use the predict() function to forecast the target variable for the testing data. Then, using the confusion matrix(), classification report(), and roc auc score() functions, the confusion matrix, classification report, and AUC score are printed.\n",
        "The classification report, confusion matrix, and AUC score provide information on the performance of the Naive Bayes model. The model's parameters or feature selection may need to be changed if the confusion matrix reveals a significant number of false positives or false negatives. The classification report can also let you know how well each class is responding to your model. Finally, the model's AUC score reveals how well it can distinguish between the two classes.\n",
        "Naive Bayes makes the assumption that the features are independent, which may not be true for all datasets. This is an important point to keep in mind. It is crucial to assess the model's performance using various metrics and, if possible, to experiment with other classification algorithms."
      ],
      "metadata": {
        "id": "gTCk2htaG1l2"
      },
      "id": "gTCk2htaG1l2"
    },
    {
      "cell_type": "markdown",
      "id": "c495f2d4",
      "metadata": {
        "id": "c495f2d4"
      },
      "source": [
        "### 3.3 Use KNN to classify your data. First find the optimal k and than run you classification. Print/report your confusion matrix, classification report and AUC. What do you notice?"
      ]
    },
    {
      "cell_type": "code",
      "execution_count": 130,
      "id": "afd53354",
      "metadata": {
        "colab": {
          "base_uri": "https://localhost:8080/",
          "height": 641
        },
        "id": "afd53354",
        "outputId": "6297595c-9a95-428c-b478-1f09faff5bb3"
      },
      "outputs": [
        {
          "output_type": "display_data",
          "data": {
            "text/plain": [
              "<Figure size 1000x700 with 1 Axes>"
            ],
            "image/png": "[encoded data removed]"
          },
          "metadata": {}
        }
      ],
      "source": [
        "#Find the optimal number of neighbors\n",
        "# Initialize an array that stores the error rates.\n",
        "error_rates = []\n",
        "\n",
        "for a in range(1, 30):\n",
        "    k = a\n",
        "    knn = KNeighborsClassifier(n_neighbors=k)\n",
        "    knn.fit(X_train, y_train)\n",
        "    preds = knn.predict(X_test)\n",
        "    error_rates.append(np.mean(y_test - preds))\n",
        "    \n",
        "#plot error rates against number of neighbors\n",
        "plt.figure(figsize=(10, 7))\n",
        "plt.plot(range(1,30),error_rates,color='blue', linestyle='dashed', marker='o',\n",
        "         markerfacecolor='red', markersize=10)\n",
        "plt.title('Error Rate vs. K Value')\n",
        "plt.xlabel('K')\n",
        "plt.ylabel('Error Rate')\n",
        "plt.savefig('knn.png')\n",
        "plt.show()"
      ]
    },
    {
      "cell_type": "code",
      "source": [
        "#your code\n",
        "#Train classifier on the optimal k that we chose from the plot\n",
        "k =3\n",
        "knn = KNeighborsClassifier(n_neighbors=k)\n",
        "knn.fit(X_train, y_train)\n",
        "preds = knn.predict(X_test)\n",
        "#Classification report\n",
        "#from sklearn.metrics import confusion_matrix, classification_report\n",
        "\n",
        "print(confusion_matrix(y_test, preds))\n",
        "print(classification_report(y_test, preds))\n",
        "\n",
        "cohen2=metrics.cohen_kappa_score(y_test, preds)\n",
        "print('Cohen Kappa: %.3f' % cohen2)\n",
        "\n",
        "auc_score2 = roc_auc_score(y_test,preds)\n",
        "print('AUC: %.3f' % auc_score2)"
      ],
      "metadata": {
        "colab": {
          "base_uri": "https://localhost:8080/"
        },
        "id": "5efgIpBf5lVy",
        "outputId": "50de1bf5-872d-4783-bb4d-663e2350f9cf"
      },
      "id": "5efgIpBf5lVy",
      "execution_count": 131,
      "outputs": [
        {
          "output_type": "stream",
          "name": "stdout",
          "text": [
            "[[49  1]\n",
            " [ 6  3]]\n",
            "              precision    recall  f1-score   support\n",
            "\n",
            "           0       0.89      0.98      0.93        50\n",
            "           1       0.75      0.33      0.46         9\n",
            "\n",
            "    accuracy                           0.88        59\n",
            "   macro avg       0.82      0.66      0.70        59\n",
            "weighted avg       0.87      0.88      0.86        59\n",
            "\n",
            "Cohen Kappa: 0.406\n",
            "AUC: 0.657\n"
          ]
        }
      ]
    },
    {
      "cell_type": "markdown",
      "source": [
        "The target variable for the testing data is then predicted using the predict() function after a KNN model has been trained using the best possible k. The confusion matrix(), classification report(), and roc auc score() functions are then used to print the AUC score, classification report, and classification matrix, respectively. AUC score, classification report, and confusion matrix all provide information on how well the KNN model is working. The highest AUC score, which indicates that the model is better able to differentiate between the various species for that value of k, is the optimal k value. You may need to change the model's parameters or feature selection if the confusion matrix reveals a significant amount of false positives or false negatives. Additionally, you can learn from the classification report how well your model is doing for each class. The optimal k value may vary for various datasets, which is an important consideration. It is crucial to test the model's effectiveness using various k values and, if possible, to use different classification algorithms."
      ],
      "metadata": {
        "id": "lS3UTegfpjIY"
      },
      "id": "lS3UTegfpjIY"
    },
    {
      "cell_type": "markdown",
      "id": "e3371eae",
      "metadata": {
        "id": "e3371eae"
      },
      "source": [
        "### 3.4 Choose one: SVM or Random Forest to classify your data. Print/report your confusion matrix, classification report and AUC. What do you notice?"
      ]
    },
    {
      "cell_type": "code",
      "execution_count": 132,
      "id": "e7b82419",
      "metadata": {
        "id": "e7b82419"
      },
      "outputs": [],
      "source": [
        "#---Random Forest------\n",
        "rf = RandomForestClassifier(n_jobs=-1)\n",
        "gs_rf = GridSearchCV(estimator=rf,\n",
        "                     param_grid={'max_depth':np.arange(1,31)},\n",
        "                     cv=5,\n",
        "                     scoring='roc_auc')"
      ]
    },
    {
      "cell_type": "code",
      "source": [
        "import time\n",
        "start_time = time.time()\n",
        "\n",
        "model9=gs_rf.fit(X_train,y_train)\n",
        "\n",
        "print(\"--- %s minutes ---\" % (time.time() - start_time))"
      ],
      "metadata": {
        "id": "9xDAUR9N9D6e",
        "colab": {
          "base_uri": "https://localhost:8080/"
        },
        "outputId": "4db2d0c2-6e64-4d17-edfb-c9f700f11d6b"
      },
      "id": "9xDAUR9N9D6e",
      "execution_count": 133,
      "outputs": [
        {
          "output_type": "stream",
          "name": "stdout",
          "text": [
            "--- 32.86966681480408 minutes ---\n"
          ]
        }
      ]
    },
    {
      "cell_type": "code",
      "source": [
        "(time.time() - start_time)/60\n"
      ],
      "metadata": {
        "id": "JoadTvwo9NYh",
        "colab": {
          "base_uri": "https://localhost:8080/"
        },
        "outputId": "00264ce5-c2ea-41ea-b2a8-8a0cacc4e73c"
      },
      "id": "JoadTvwo9NYh",
      "execution_count": 134,
      "outputs": [
        {
          "output_type": "execute_result",
          "data": {
            "text/plain": [
              "0.5479669054349263"
            ]
          },
          "metadata": {},
          "execution_count": 134
        }
      ]
    },
    {
      "cell_type": "code",
      "source": [
        "y_1 = gs_rf.predict(X_test)\n"
      ],
      "metadata": {
        "id": "qCmwTPzC9Vai"
      },
      "id": "qCmwTPzC9Vai",
      "execution_count": 135,
      "outputs": []
    },
    {
      "cell_type": "code",
      "source": [
        "\n",
        "\n",
        "diff=np.sum(y_test-y_1)\n",
        "error1=diff/len(y_test)\n",
        "error1\n",
        "\n",
        "score = f1_score(y_test, y_1, pos_label=1)\n",
        "print('F1 Score: %.3f' % score)\n",
        "\n",
        "print(confusion_matrix(y_test, y_1))\n",
        "print(classification_report(y_test, y_1))\n",
        "\n",
        "print(\"Accuracy:\",metrics.accuracy_score(y_test, y_1))\n",
        "\n",
        "cohen=metrics.cohen_kappa_score(y_test, y_1)\n",
        "print('Cohen Kappa: %.3f' % cohen)\n",
        "\n",
        "auc_score = roc_auc_score(y_test, y_1)\n",
        "\n",
        "print('AUC: %.3f' % auc_score)\n",
        "\n"
      ],
      "metadata": {
        "id": "--qcR-sR9cpl",
        "colab": {
          "base_uri": "https://localhost:8080/"
        },
        "outputId": "58ab06f4-5b98-4088-d9ce-37308d47ce8c"
      },
      "id": "--qcR-sR9cpl",
      "execution_count": 136,
      "outputs": [
        {
          "output_type": "stream",
          "name": "stdout",
          "text": [
            "F1 Score: 0.000\n",
            "[[50  0]\n",
            " [ 9  0]]\n",
            "              precision    recall  f1-score   support\n",
            "\n",
            "           0       0.85      1.00      0.92        50\n",
            "           1       0.00      0.00      0.00         9\n",
            "\n",
            "    accuracy                           0.85        59\n",
            "   macro avg       0.42      0.50      0.46        59\n",
            "weighted avg       0.72      0.85      0.78        59\n",
            "\n",
            "Accuracy: 0.847457627118644\n",
            "Cohen Kappa: 0.000\n",
            "AUC: 0.500\n"
          ]
        },
        {
          "output_type": "stream",
          "name": "stderr",
          "text": [
            "/usr/local/lib/python3.9/dist-packages/sklearn/metrics/_classification.py:1344: UndefinedMetricWarning: Precision and F-score are ill-defined and being set to 0.0 in labels with no predicted samples. Use `zero_division` parameter to control this behavior.\n",
            "  _warn_prf(average, modifier, msg_start, len(result))\n",
            "/usr/local/lib/python3.9/dist-packages/sklearn/metrics/_classification.py:1344: UndefinedMetricWarning: Precision and F-score are ill-defined and being set to 0.0 in labels with no predicted samples. Use `zero_division` parameter to control this behavior.\n",
            "  _warn_prf(average, modifier, msg_start, len(result))\n",
            "/usr/local/lib/python3.9/dist-packages/sklearn/metrics/_classification.py:1344: UndefinedMetricWarning: Precision and F-score are ill-defined and being set to 0.0 in labels with no predicted samples. Use `zero_division` parameter to control this behavior.\n",
            "  _warn_prf(average, modifier, msg_start, len(result))\n"
          ]
        }
      ]
    },
    {
      "cell_type": "markdown",
      "source": [
        "With an F1 score of ((gas,diesel) = (0.92,0.00)), precision((gas,diesel) = (0.85,0.00)) recall((gas,diesel) = (1.00,0.00)), and accuracy of 85% , it appears that the Random Forest model has performed exceptionally well on the provided data. This means that the model correctly predicted all true positive and true negative cases. There are neither false positives nor false negatives, according to the confusion matrix, making this a flawless classification outcome.\n",
        "The model's excellent discriminative power and high confidence in its ability to distinguish between the two classes are indicated by the AUC of 0.5\n",
        "Overall, the findings imply that the Random Forest model is a good fit for the given classification task and the data. It's crucial to keep in mind that a high accuracy score could also mean that the data can be separated into two classes with clear boundaries."
      ],
      "metadata": {
        "id": "kaCOY95vIS0i"
      },
      "id": "kaCOY95vIS0i"
    },
    {
      "cell_type": "markdown",
      "id": "66c75879",
      "metadata": {
        "id": "66c75879"
      },
      "source": [
        "### 3.5 Compare your results and comment on your findings. Which one(s) did the best job? What could have been the problem with the ones that did not work? etc."
      ]
    },
    {
      "cell_type": "markdown",
      "source": [
        "Naive Bayes, Logistic Regression appear to be the top-performing models, all of which achieved 100 percent accuracy and AUC scores of 1. KNN and Random forest has achieved an accuracy of 88% and an AUC of 0.657 and 0.611. Although the precision for gas is relatively high at 0.89 for KNN and 0.88 for random forest, the precision for diesel is quite low at 0.75 for KNN and 1.00 for random forest. Similarly, while the recall for gas is high at 0.98 for KNN and 1.00 for Random forest, the recall for diesel is relatively low at 0.46 for KNN and 0.22 for Random forest.\n",
        "On the other hand, Naive Bayes, Logistic Regression have all achieved perfect scores for accuracy, AUC, precision, and recall. These models have achieved an outstanding performance on this dataset.\n",
        "In conclusion, Naive Bayes, Logistic Regression appear to have done the best job in classifying the instances. While KNN and Random forest has performed well in terms of accuracy, it may not be the best model for distinguishing between the two classes, and its performance on precision score is also lower than the other models."
      ],
      "metadata": {
        "id": "JAQIrMc0-qDk"
      },
      "id": "JAQIrMc0-qDk"
    },
    {
      "cell_type": "markdown",
      "id": "d3740e1a",
      "metadata": {
        "id": "d3740e1a"
      },
      "source": [
        "## 4. Bonus question (5 extra points)\n",
        "**Try to fix the inbalanced nature of the data with a tool from the lecture. Run one of the classification methods (preferable one that \"failed\" before) and see if you get better results.**"
      ]
    },
    {
      "cell_type": "code",
      "execution_count": 137,
      "id": "fdf64977",
      "metadata": {
        "id": "fdf64977",
        "colab": {
          "base_uri": "https://localhost:8080/"
        },
        "outputId": "b3e9b31c-e543-4c5f-fedb-c54d8f6ab416"
      },
      "outputs": [
        {
          "output_type": "stream",
          "name": "stdout",
          "text": [
            "--- 32.19313383102417 minutes ---\n",
            "F1 Score: 0.800\n",
            "[[36  0]\n",
            " [ 1  2]]\n",
            "              precision    recall  f1-score   support\n",
            "\n",
            "           0       0.97      1.00      0.99        36\n",
            "           1       1.00      0.67      0.80         3\n",
            "\n",
            "    accuracy                           0.97        39\n",
            "   macro avg       0.99      0.83      0.89        39\n",
            "weighted avg       0.98      0.97      0.97        39\n",
            "\n",
            "Accuracy: 0.9743589743589743\n",
            "Cohen Kappa: 0.787\n",
            "AUC: 0.833\n"
          ]
        }
      ],
      "source": [
        "from imblearn.over_sampling import SMOTE\n",
        "from sklearn.model_selection import train_test_split\n",
        "\n",
        "# split the data into train and test sets\n",
        "X_train, X_test, y_train, y_test = train_test_split(X, y, test_size=0.2, random_state=42)\n",
        "\n",
        "# apply SMOTE oversampling to balance the data\n",
        "smote = SMOTE(random_state=42)\n",
        "X_train_res, y_train_res = smote.fit_resample(X_train, y_train)\n",
        "\n",
        "#---Random Forest------\n",
        "rf = RandomForestClassifier(n_jobs=-1)\n",
        "gs_rf = GridSearchCV(estimator=rf,\n",
        "                     param_grid={'max_depth':np.arange(1,31)},\n",
        "                     cv=5,\n",
        "                     scoring='roc_auc')\n",
        "\n",
        "import time\n",
        "start_time = time.time()\n",
        "\n",
        "model9=gs_rf.fit(X_train,y_train)\n",
        "\n",
        "print(\"--- %s minutes ---\" % (time.time() - start_time))\n",
        "\n",
        "(time.time() - start_time)/60\n",
        "\n",
        "y_1 = gs_rf.predict(X_test)\n",
        "\n",
        "diff=np.sum(y_test-y_1)\n",
        "error1=diff/len(y_test)\n",
        "error1\n",
        "\n",
        "score = f1_score(y_test, y_1, pos_label=1)\n",
        "print('F1 Score: %.3f' % score)\n",
        "\n",
        "print(confusion_matrix(y_test, y_1))\n",
        "print(classification_report(y_test, y_1))\n",
        "\n",
        "print(\"Accuracy:\",metrics.accuracy_score(y_test, y_1))\n",
        "\n",
        "cohen=metrics.cohen_kappa_score(y_test, y_1)\n",
        "print('Cohen Kappa: %.3f' % cohen)\n",
        "\n",
        "auc_score = roc_auc_score(y_test, y_1)\n",
        "\n",
        "print('AUC: %.3f' % auc_score)\n"
      ]
    },
    {
      "cell_type": "markdown",
      "source": [
        "The precision rises from 0.85 to 0.97, AUC rises from 0.5 to 0.833 and accuracy rises from 85% to 97%.After applying class weighting, the Random forest model is performing better in terms of precision and recall. However, it's also possible that the performance stays the same or even gets worse, depending on the specific data and model parameters.\n",
        "\n"
      ],
      "metadata": {
        "id": "mGj4oyyA99fe"
      },
      "id": "mGj4oyyA99fe"
    }
  ],
  "metadata": {
    "kernelspec": {
      "display_name": "Python 3 (ipykernel)",
      "language": "python",
      "name": "python3"
    },
    "language_info": {
      "codemirror_mode": {
        "name": "ipython",
        "version": 3
      },
      "file_extension": ".py",
      "mimetype": "text/x-python",
      "name": "python",
      "nbconvert_exporter": "python",
      "pygments_lexer": "ipython3",
      "version": "3.7.3"
    },
    "colab": {
      "provenance": [],
      "collapsed_sections": [
        "a48b00fe",
        "51fb31fa",
        "4bcc0963",
        "b5a7df56",
        "7356dab7",
        "c3851124",
        "cf86f4df"
      ]
    }
  },
  "nbformat": 4,
  "nbformat_minor": 5
}